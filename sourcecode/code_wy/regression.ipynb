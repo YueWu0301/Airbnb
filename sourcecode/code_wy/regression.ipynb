{
 "cells": [
  {
   "cell_type": "code",
   "execution_count": 1,
   "metadata": {},
   "outputs": [
    {
     "name": "stderr",
     "output_type": "stream",
     "text": [
      "/root/miniconda3/envs/envPytorch/lib/python3.8/site-packages/tqdm/auto.py:21: TqdmWarning: IProgress not found. Please update jupyter and ipywidgets. See https://ipywidgets.readthedocs.io/en/stable/user_install.html\n",
      "  from .autonotebook import tqdm as notebook_tqdm\n"
     ]
    }
   ],
   "source": [
    "import pandas as pd\n",
    "import numpy as np\n",
    "from sklearn import metrics\n",
    "from sklearn.model_selection import cross_val_score\n",
    "from sklearn.preprocessing import LabelEncoder\n",
    "from sklearn.model_selection import train_test_split\n",
    "from sklearn.ensemble import RandomForestRegressor\n",
    "from sklearn.preprocessing import OneHotEncoder\n",
    "from sklearn.compose import ColumnTransformer\n",
    "# explicitly require this experimental feature\n",
    "from sklearn.experimental import enable_halving_search_cv # noqa\n",
    "# now you can import normally from model_selection\n",
    "from sklearn.model_selection import HalvingRandomSearchCV\n",
    "import optuna\n",
    "from sklearn.model_selection import RandomizedSearchCV\n",
    "from scipy.stats import randint\n",
    "from sklearn.preprocessing import MinMaxScaler\n"
   ]
  },
  {
   "cell_type": "code",
   "execution_count": 2,
   "metadata": {},
   "outputs": [],
   "source": [
    "pd.set_option('display.max_rows', None)\n",
    "pd.set_option('display.max_columns', None)\n",
    "pd.set_option('display.max_colwidth', None)\n",
    "def cross_val(model, x_df , y_df):\n",
    "    pred = cross_val_score(model, x_df, y_df, cv=5, scoring='r2')\n",
    "    return pred\n",
    "\n",
    "def print_evaluate(true, predicted):  \n",
    "    mae = metrics.mean_absolute_error(true, predicted)\n",
    "    mse = metrics.mean_squared_error(true, predicted)\n",
    "    rmse = np.sqrt(metrics.mean_squared_error(true, predicted))\n",
    "    r2_square = metrics.r2_score(true, predicted)\n",
    "    print('MAE:', mae)\n",
    "    print('MSE:', mse)\n",
    "    print('RMSE:', rmse)\n",
    "    print('R2 Square', r2_square)\n",
    "    \n",
    "def evaluate(true, predicted):\n",
    "    mae = metrics.mean_absolute_error(true, predicted)\n",
    "    mse = metrics.mean_squared_error(true, predicted)\n",
    "    rmse = np.sqrt(metrics.mean_squared_error(true, predicted))\n",
    "    r2_square = metrics.r2_score(true, predicted)\n",
    "    return mae, mse, rmse, r2_square"
   ]
  },
  {
   "cell_type": "code",
   "execution_count": 3,
   "metadata": {},
   "outputs": [
    {
     "data": {
      "text/plain": [
       "(7179, 71)"
      ]
     },
     "execution_count": 3,
     "metadata": {},
     "output_type": "execute_result"
    }
   ],
   "source": [
    "df = pd.read_csv('listing_filtered.csv')\n",
    "y = 'number_of_reviews_l30d'\n",
    "\n",
    "y_df = df[y]\n",
    "x_df = df.drop(y, axis=1)\n",
    "# x_df = x_df.drop('number_of_reviews_l30d',axis=1)\n",
    "# x_df = x_df.drop('reviews_per_month',axis=1)\n",
    "\n",
    "X_train, X_test, y_train, y_test = train_test_split(x_df, y_df, test_size=0.3, random_state=42)\n",
    "X_train.shape"
   ]
  },
  {
   "cell_type": "code",
   "execution_count": 4,
   "metadata": {},
   "outputs": [
    {
     "name": "stdout",
     "output_type": "stream",
     "text": [
      "Test set evaluation:\n",
      "_____________________________________\n",
      "MAE: 0.8353233669158271\n",
      "MSE: 1.508126909327267\n",
      "RMSE: 1.2280581864583073\n",
      "R2 Square 0.5917012738326595\n",
      "Train set evaluation:\n",
      "_____________________________________\n",
      "MAE: 0.30747248920462456\n",
      "MSE: 0.21059764939406603\n",
      "RMSE: 0.45890919515092093\n",
      "R2 Square 0.9440261979319998\n"
     ]
    }
   ],
   "source": [
    "# default\n",
    "rf_reg = RandomForestRegressor(n_estimators=200)\n",
    "rf_reg.fit(X_train, y_train)\n",
    "\n",
    "test_pred = rf_reg.predict(X_test)\n",
    "train_pred = rf_reg.predict(X_train)\n",
    "\n",
    "print('Test set evaluation:\\n_____________________________________')\n",
    "print_evaluate(y_test, test_pred)\n",
    "\n",
    "print('Train set evaluation:\\n_____________________________________')\n",
    "print_evaluate(y_train, train_pred)"
   ]
  },
  {
   "cell_type": "code",
   "execution_count": 5,
   "metadata": {},
   "outputs": [
    {
     "name": "stdout",
     "output_type": "stream",
     "text": [
      "n_iterations: 6\n",
      "n_required_iterations: 7\n",
      "n_possible_iterations: 6\n",
      "min_resources_: 10\n",
      "max_resources_: 7179\n",
      "aggressive_elimination: False\n",
      "factor: 3\n",
      "----------\n",
      "iter: 0\n",
      "n_candidates: 1080\n",
      "n_resources: 10\n",
      "Fitting 5 folds for each of 1080 candidates, totalling 5400 fits\n"
     ]
    },
    {
     "name": "stderr",
     "output_type": "stream",
     "text": [
      "/root/miniconda3/envs/envPytorch/lib/python3.8/site-packages/sklearn/model_selection/_search.py:307: UserWarning: The total space of parameters 1080 is smaller than n_iter=2000. Running 1080 iterations. For exhaustive searches, use GridSearchCV.\n",
      "  warnings.warn(\n"
     ]
    },
    {
     "name": "stdout",
     "output_type": "stream",
     "text": [
      "----------\n",
      "iter: 1\n",
      "n_candidates: 360\n",
      "n_resources: 30\n",
      "Fitting 5 folds for each of 360 candidates, totalling 1800 fits\n",
      "----------\n",
      "iter: 2\n",
      "n_candidates: 120\n",
      "n_resources: 90\n",
      "Fitting 5 folds for each of 120 candidates, totalling 600 fits\n",
      "----------\n",
      "iter: 3\n",
      "n_candidates: 40\n",
      "n_resources: 270\n",
      "Fitting 5 folds for each of 40 candidates, totalling 200 fits\n",
      "----------\n",
      "iter: 4\n",
      "n_candidates: 14\n",
      "n_resources: 810\n",
      "Fitting 5 folds for each of 14 candidates, totalling 70 fits\n",
      "----------\n",
      "iter: 5\n",
      "n_candidates: 5\n",
      "n_resources: 2430\n",
      "Fitting 5 folds for each of 5 candidates, totalling 25 fits\n",
      "Best parameters: {'n_estimators': 500, 'min_samples_split': 5, 'min_samples_leaf': 2, 'max_features': 'sqrt', 'max_depth': 40, 'bootstrap': False}\n",
      "Best score (MSE): 1.6519289002045212\n"
     ]
    }
   ],
   "source": [
    "# HalvingRandomSearchCV \n",
    "param_distributions = {\n",
    "    'n_estimators': [50,100, 200, 300, 500],  # 树的数量\n",
    "    'max_features': ['sqrt', 'log2'],  # 寻找最佳分割时要考虑的特征数量\n",
    "    'max_depth': [5, 10, 20, 30, 40, 50],  # 树的最大深度\n",
    "    'min_samples_split': [2, 5, 10],  # 内部节点再划分所需最小样本数\n",
    "    'min_samples_leaf': [1, 2, 4],  # 在叶节点上所需的最小样本数\n",
    "    'bootstrap': [True, False]  # 是否在建立树时使用放回抽样\n",
    "}\n",
    "rf = RandomForestRegressor()\n",
    "\n",
    "# 设置 HalvingRandomSearchCV\n",
    "search = HalvingRandomSearchCV(estimator=rf, param_distributions=param_distributions,\n",
    "                               n_candidates=2000, factor=3, random_state=42, \n",
    "                               resource='n_samples', max_resources='auto', min_resources='smallest',\n",
    "                               cv=5, verbose=1, scoring='neg_mean_squared_error',n_jobs=-1)\n",
    "\n",
    "# 运行搜索\n",
    "search.fit(X_train, y_train)\n",
    "\n",
    "# 输出最佳参数和对应的性能\n",
    "print(\"Best parameters:\", search.best_params_)\n",
    "print(\"Best score (MSE):\", -search.best_score_)  # 转换成正的MSE，因为评分标准是负的MSE\n",
    "\n",
    "# 使用最优参数训练的模型\n",
    "best_model = search.best_estimator_"
   ]
  },
  {
   "cell_type": "code",
   "execution_count": 6,
   "metadata": {},
   "outputs": [
    {
     "name": "stdout",
     "output_type": "stream",
     "text": [
      "Test set evaluation:\n",
      "_____________________________________\n",
      "MAE: 0.8781991789128951\n",
      "MSE: 1.5142070678686677\n",
      "RMSE: 1.230531213691334\n",
      "R2 Square 0.5900551782872543\n",
      "Train set evaluation:\n",
      "_____________________________________\n",
      "MAE: 0.18452611000030097\n",
      "MSE: 0.08695350204716629\n",
      "RMSE: 0.2948787921285054\n",
      "R2 Square 0.976889019764887\n"
     ]
    }
   ],
   "source": [
    "# 基于超参数 ， train model\n",
    "model = RandomForestRegressor(\n",
    "    **search.best_params_\n",
    ")\n",
    "\n",
    "model.fit(X_train, y_train)\n",
    "\n",
    "test_pred = model.predict(X_test)\n",
    "train_pred = model.predict(X_train)\n",
    "\n",
    "print('Test set evaluation:\\n_____________________________________')\n",
    "print_evaluate(y_test, test_pred)\n",
    "\n",
    "print('Train set evaluation:\\n_____________________________________')\n",
    "print_evaluate(y_train, train_pred)"
   ]
  },
  {
   "cell_type": "code",
   "execution_count": 7,
   "metadata": {},
   "outputs": [
    {
     "name": "stderr",
     "output_type": "stream",
     "text": [
      "[I 2024-05-30 01:17:31,677] A new study created in memory with name: no-name-bb0aebc9-df2a-4b2d-b77b-0ad8010e6488\n",
      "[I 2024-05-30 01:17:35,981] Trial 8 finished with value: 1.676862086322424 and parameters: {'n_estimators': 140, 'max_features': 'log2', 'max_depth': 15, 'min_samples_split': 6, 'min_samples_leaf': 3, 'bootstrap': False}. Best is trial 8 with value: 1.676862086322424.\n",
      "[I 2024-05-30 01:17:36,276] Trial 13 finished with value: 1.72434350819256 and parameters: {'n_estimators': 190, 'max_features': 'log2', 'max_depth': 36, 'min_samples_split': 2, 'min_samples_leaf': 5, 'bootstrap': True}. Best is trial 8 with value: 1.676862086322424.\n",
      "[I 2024-05-30 01:17:38,007] Trial 1 finished with value: 1.82398332346582 and parameters: {'n_estimators': 470, 'max_features': 'log2', 'max_depth': 9, 'min_samples_split': 4, 'min_samples_leaf': 4, 'bootstrap': True}. Best is trial 8 with value: 1.676862086322424.\n",
      "[I 2024-05-30 01:17:38,265] Trial 10 finished with value: 1.6390833367613502 and parameters: {'n_estimators': 200, 'max_features': 'sqrt', 'max_depth': 12, 'min_samples_split': 6, 'min_samples_leaf': 5, 'bootstrap': False}. Best is trial 10 with value: 1.6390833367613502.\n",
      "[I 2024-05-30 01:17:38,330] Trial 16 finished with value: 1.694612727830147 and parameters: {'n_estimators': 110, 'max_features': 'log2', 'max_depth': 48, 'min_samples_split': 10, 'min_samples_leaf': 1, 'bootstrap': True}. Best is trial 10 with value: 1.6390833367613502.\n",
      "[I 2024-05-30 01:17:38,632] Trial 12 finished with value: 1.7003298318707025 and parameters: {'n_estimators': 270, 'max_features': 'log2', 'max_depth': 14, 'min_samples_split': 2, 'min_samples_leaf': 2, 'bootstrap': True}. Best is trial 10 with value: 1.6390833367613502.\n",
      "[I 2024-05-30 01:17:38,877] Trial 5 finished with value: 1.7035275281623246 and parameters: {'n_estimators': 350, 'max_features': 'sqrt', 'max_depth': 10, 'min_samples_split': 2, 'min_samples_leaf': 5, 'bootstrap': True}. Best is trial 10 with value: 1.6390833367613502.\n",
      "[I 2024-05-30 01:17:39,291] Trial 4 finished with value: 1.6590352630259417 and parameters: {'n_estimators': 240, 'max_features': 'log2', 'max_depth': 23, 'min_samples_split': 5, 'min_samples_leaf': 3, 'bootstrap': False}. Best is trial 10 with value: 1.6390833367613502.\n",
      "[I 2024-05-30 01:17:39,525] Trial 22 finished with value: 1.72434350819256 and parameters: {'n_estimators': 190, 'max_features': 'log2', 'max_depth': 42, 'min_samples_split': 4, 'min_samples_leaf': 5, 'bootstrap': True}. Best is trial 10 with value: 1.6390833367613502.\n",
      "[I 2024-05-30 01:17:40,021] Trial 7 finished with value: 1.6523998480416495 and parameters: {'n_estimators': 250, 'max_features': 'log2', 'max_depth': 42, 'min_samples_split': 7, 'min_samples_leaf': 3, 'bootstrap': False}. Best is trial 10 with value: 1.6390833367613502.\n",
      "[I 2024-05-30 01:17:41,707] Trial 6 finished with value: 1.6501928500183038 and parameters: {'n_estimators': 420, 'max_features': 'sqrt', 'max_depth': 35, 'min_samples_split': 9, 'min_samples_leaf': 5, 'bootstrap': True}. Best is trial 10 with value: 1.6390833367613502.\n",
      "[I 2024-05-30 01:17:42,044] Trial 23 finished with value: 1.6051857961887848 and parameters: {'n_estimators': 140, 'max_features': 'sqrt', 'max_depth': 34, 'min_samples_split': 4, 'min_samples_leaf': 2, 'bootstrap': False}. Best is trial 23 with value: 1.6051857961887848.\n",
      "[I 2024-05-30 01:17:42,657] Trial 35 finished with value: 1.7207107454232045 and parameters: {'n_estimators': 60, 'max_features': 'log2', 'max_depth': 39, 'min_samples_split': 10, 'min_samples_leaf': 2, 'bootstrap': True}. Best is trial 23 with value: 1.6051857961887848.\n",
      "[I 2024-05-30 01:17:42,673] Trial 11 finished with value: 1.6524567614899888 and parameters: {'n_estimators': 160, 'max_features': 'sqrt', 'max_depth': 15, 'min_samples_split': 5, 'min_samples_leaf': 4, 'bootstrap': True}. Best is trial 23 with value: 1.6051857961887848.\n",
      "[I 2024-05-30 01:17:42,895] Trial 0 finished with value: 1.6431776797915902 and parameters: {'n_estimators': 330, 'max_features': 'log2', 'max_depth': 40, 'min_samples_split': 9, 'min_samples_leaf': 1, 'bootstrap': False}. Best is trial 23 with value: 1.6051857961887848.\n",
      "[I 2024-05-30 01:17:43,483] Trial 3 finished with value: 1.5936906491400495 and parameters: {'n_estimators': 300, 'max_features': 'sqrt', 'max_depth': 31, 'min_samples_split': 8, 'min_samples_leaf': 1, 'bootstrap': False}. Best is trial 3 with value: 1.5936906491400495.\n",
      "[I 2024-05-30 01:17:45,589] Trial 2 finished with value: 1.5910637858681071 and parameters: {'n_estimators': 360, 'max_features': 'sqrt', 'max_depth': 47, 'min_samples_split': 8, 'min_samples_leaf': 1, 'bootstrap': False}. Best is trial 2 with value: 1.5910637858681071.\n",
      "[I 2024-05-30 01:17:45,669] Trial 14 finished with value: 1.6693936310125899 and parameters: {'n_estimators': 400, 'max_features': 'log2', 'max_depth': 43, 'min_samples_split': 5, 'min_samples_leaf': 5, 'bootstrap': False}. Best is trial 2 with value: 1.5910637858681071.\n",
      "[I 2024-05-30 01:17:46,472] Trial 21 finished with value: 1.7041312937594757 and parameters: {'n_estimators': 260, 'max_features': 'log2', 'max_depth': 32, 'min_samples_split': 3, 'min_samples_leaf': 4, 'bootstrap': True}. Best is trial 2 with value: 1.5910637858681071.\n",
      "[I 2024-05-30 01:17:47,044] Trial 31 finished with value: 1.7224053885238582 and parameters: {'n_estimators': 200, 'max_features': 'log2', 'max_depth': 40, 'min_samples_split': 3, 'min_samples_leaf': 5, 'bootstrap': True}. Best is trial 2 with value: 1.5910637858681071.\n",
      "[I 2024-05-30 01:17:48,389] Trial 18 finished with value: 1.6299248851305244 and parameters: {'n_estimators': 210, 'max_features': 'sqrt', 'max_depth': 47, 'min_samples_split': 4, 'min_samples_leaf': 1, 'bootstrap': True}. Best is trial 2 with value: 1.5910637858681071.\n",
      "[I 2024-05-30 01:17:48,837] Trial 20 finished with value: 1.5926211825223118 and parameters: {'n_estimators': 400, 'max_features': 'sqrt', 'max_depth': 38, 'min_samples_split': 5, 'min_samples_leaf': 2, 'bootstrap': False}. Best is trial 2 with value: 1.5910637858681071.\n",
      "[I 2024-05-30 01:17:49,129] Trial 39 finished with value: 1.7348535052908958 and parameters: {'n_estimators': 110, 'max_features': 'log2', 'max_depth': 14, 'min_samples_split': 5, 'min_samples_leaf': 4, 'bootstrap': True}. Best is trial 2 with value: 1.5910637858681071.\n",
      "[I 2024-05-30 01:17:49,315] Trial 25 finished with value: 1.7109232468117035 and parameters: {'n_estimators': 170, 'max_features': 'log2', 'max_depth': 43, 'min_samples_split': 5, 'min_samples_leaf': 4, 'bootstrap': True}. Best is trial 2 with value: 1.5910637858681071.\n",
      "[I 2024-05-30 01:17:49,340] Trial 33 finished with value: 1.6899897018265304 and parameters: {'n_estimators': 130, 'max_features': 'log2', 'max_depth': 14, 'min_samples_split': 9, 'min_samples_leaf': 3, 'bootstrap': False}. Best is trial 2 with value: 1.5910637858681071.\n",
      "[I 2024-05-30 01:17:49,401] Trial 15 finished with value: 1.6432270940006752 and parameters: {'n_estimators': 440, 'max_features': 'sqrt', 'max_depth': 18, 'min_samples_split': 5, 'min_samples_leaf': 4, 'bootstrap': True}. Best is trial 2 with value: 1.5910637858681071.\n",
      "[I 2024-05-30 01:17:49,615] Trial 38 finished with value: 1.8684413407912224 and parameters: {'n_estimators': 180, 'max_features': 'log2', 'max_depth': 8, 'min_samples_split': 10, 'min_samples_leaf': 5, 'bootstrap': False}. Best is trial 2 with value: 1.5910637858681071.\n",
      "[I 2024-05-30 01:17:49,821] Trial 9 finished with value: 1.7193865320851593 and parameters: {'n_estimators': 280, 'max_features': 'log2', 'max_depth': 32, 'min_samples_split': 4, 'min_samples_leaf': 5, 'bootstrap': True}. Best is trial 2 with value: 1.5910637858681071.\n",
      "[I 2024-05-30 01:17:49,951] Trial 17 finished with value: 1.6483344574448417 and parameters: {'n_estimators': 430, 'max_features': 'log2', 'max_depth': 48, 'min_samples_split': 3, 'min_samples_leaf': 3, 'bootstrap': False}. Best is trial 2 with value: 1.5910637858681071.\n",
      "[I 2024-05-30 01:17:50,217] Trial 24 finished with value: 1.7091678394819134 and parameters: {'n_estimators': 290, 'max_features': 'log2', 'max_depth': 12, 'min_samples_split': 3, 'min_samples_leaf': 2, 'bootstrap': False}. Best is trial 2 with value: 1.5910637858681071.\n",
      "[I 2024-05-30 01:17:50,306] Trial 26 finished with value: 1.6883669002142612 and parameters: {'n_estimators': 280, 'max_features': 'log2', 'max_depth': 13, 'min_samples_split': 4, 'min_samples_leaf': 3, 'bootstrap': False}. Best is trial 2 with value: 1.5910637858681071.\n",
      "[I 2024-05-30 01:17:50,366] Trial 28 finished with value: 1.6693928810084855 and parameters: {'n_estimators': 420, 'max_features': 'log2', 'max_depth': 39, 'min_samples_split': 2, 'min_samples_leaf': 5, 'bootstrap': False}. Best is trial 2 with value: 1.5910637858681071.\n",
      "[I 2024-05-30 01:17:50,514] Trial 19 finished with value: 1.6030531525875389 and parameters: {'n_estimators': 250, 'max_features': 'sqrt', 'max_depth': 21, 'min_samples_split': 5, 'min_samples_leaf': 3, 'bootstrap': False}. Best is trial 2 with value: 1.5910637858681071.\n",
      "[I 2024-05-30 01:17:50,659] Trial 29 finished with value: 1.6573651196664645 and parameters: {'n_estimators': 170, 'max_features': 'log2', 'max_depth': 41, 'min_samples_split': 10, 'min_samples_leaf': 1, 'bootstrap': False}. Best is trial 2 with value: 1.5910637858681071.\n",
      "[I 2024-05-30 01:17:52,151] Trial 32 finished with value: 1.6010789618473489 and parameters: {'n_estimators': 330, 'max_features': 'sqrt', 'max_depth': 14, 'min_samples_split': 6, 'min_samples_leaf': 2, 'bootstrap': False}. Best is trial 2 with value: 1.5910637858681071.\n",
      "[I 2024-05-30 01:17:52,345] Trial 46 finished with value: 1.6552097776737096 and parameters: {'n_estimators': 140, 'max_features': 'sqrt', 'max_depth': 26, 'min_samples_split': 7, 'min_samples_leaf': 5, 'bootstrap': True}. Best is trial 2 with value: 1.5910637858681071.\n",
      "[I 2024-05-30 01:17:53,104] Trial 40 finished with value: 1.7632127907874053 and parameters: {'n_estimators': 280, 'max_features': 'sqrt', 'max_depth': 8, 'min_samples_split': 8, 'min_samples_leaf': 4, 'bootstrap': False}. Best is trial 2 with value: 1.5910637858681071.\n",
      "[I 2024-05-30 01:17:53,733] Trial 36 finished with value: 1.7159977713030687 and parameters: {'n_estimators': 310, 'max_features': 'sqrt', 'max_depth': 9, 'min_samples_split': 4, 'min_samples_leaf': 3, 'bootstrap': False}. Best is trial 2 with value: 1.5910637858681071.\n",
      "[I 2024-05-30 01:17:54,884] Trial 34 finished with value: 1.6203489895819636 and parameters: {'n_estimators': 480, 'max_features': 'sqrt', 'max_depth': 48, 'min_samples_split': 6, 'min_samples_leaf': 1, 'bootstrap': True}. Best is trial 2 with value: 1.5910637858681071.\n",
      "[I 2024-05-30 01:17:55,736] Trial 47 finished with value: 1.7111767276646876 and parameters: {'n_estimators': 350, 'max_features': 'log2', 'max_depth': 24, 'min_samples_split': 10, 'min_samples_leaf': 4, 'bootstrap': True}. Best is trial 2 with value: 1.5910637858681071.\n",
      "[I 2024-05-30 01:17:56,703] Trial 50 finished with value: 1.7279765027783907 and parameters: {'n_estimators': 300, 'max_features': 'sqrt', 'max_depth': 9, 'min_samples_split': 2, 'min_samples_leaf': 1, 'bootstrap': True}. Best is trial 2 with value: 1.5910637858681071.\n",
      "[I 2024-05-30 01:17:56,807] Trial 27 finished with value: 1.5904833782938226 and parameters: {'n_estimators': 470, 'max_features': 'sqrt', 'max_depth': 31, 'min_samples_split': 4, 'min_samples_leaf': 2, 'bootstrap': False}. Best is trial 27 with value: 1.5904833782938226.\n",
      "[I 2024-05-30 01:17:56,828] Trial 41 finished with value: 1.6327442189168504 and parameters: {'n_estimators': 340, 'max_features': 'sqrt', 'max_depth': 30, 'min_samples_split': 4, 'min_samples_leaf': 3, 'bootstrap': True}. Best is trial 27 with value: 1.5904833782938226.\n",
      "[I 2024-05-30 01:17:56,993] Trial 37 finished with value: 1.6850579366054341 and parameters: {'n_estimators': 480, 'max_features': 'log2', 'max_depth': 13, 'min_samples_split': 3, 'min_samples_leaf': 3, 'bootstrap': False}. Best is trial 27 with value: 1.5904833782938226.\n",
      "[I 2024-05-30 01:17:58,053] Trial 52 finished with value: 1.7189160971049742 and parameters: {'n_estimators': 300, 'max_features': 'log2', 'max_depth': 25, 'min_samples_split': 9, 'min_samples_leaf': 5, 'bootstrap': True}. Best is trial 27 with value: 1.5904833782938226.\n",
      "[I 2024-05-30 01:17:58,669] Trial 43 finished with value: 1.7259083930500665 and parameters: {'n_estimators': 490, 'max_features': 'log2', 'max_depth': 11, 'min_samples_split': 2, 'min_samples_leaf': 3, 'bootstrap': False}. Best is trial 27 with value: 1.5904833782938226.\n",
      "[I 2024-05-30 01:17:58,959] Trial 44 finished with value: 1.6420889790010704 and parameters: {'n_estimators': 420, 'max_features': 'sqrt', 'max_depth': 43, 'min_samples_split': 9, 'min_samples_leaf': 4, 'bootstrap': True}. Best is trial 27 with value: 1.5904833782938226.\n",
      "[I 2024-05-30 01:17:59,062] Trial 51 finished with value: 1.7827356530852263 and parameters: {'n_estimators': 470, 'max_features': 'log2', 'max_depth': 10, 'min_samples_split': 4, 'min_samples_leaf': 5, 'bootstrap': True}. Best is trial 27 with value: 1.5904833782938226.\n",
      "[I 2024-05-30 01:17:59,681] Trial 49 finished with value: 1.6601486999417954 and parameters: {'n_estimators': 350, 'max_features': 'log2', 'max_depth': 26, 'min_samples_split': 10, 'min_samples_leaf': 4, 'bootstrap': False}. Best is trial 27 with value: 1.5904833782938226.\n",
      "[I 2024-05-30 01:18:00,448] Trial 57 finished with value: 1.7030078018669628 and parameters: {'n_estimators': 250, 'max_features': 'log2', 'max_depth': 41, 'min_samples_split': 6, 'min_samples_leaf': 4, 'bootstrap': True}. Best is trial 27 with value: 1.5904833782938226.\n",
      "[I 2024-05-30 01:18:01,573] Trial 56 finished with value: 1.7439042675649818 and parameters: {'n_estimators': 60, 'max_features': 'log2', 'max_depth': 19, 'min_samples_split': 8, 'min_samples_leaf': 5, 'bootstrap': True}. Best is trial 27 with value: 1.5904833782938226.\n",
      "[I 2024-05-30 01:18:02,493] Trial 59 finished with value: 1.8929431913030705 and parameters: {'n_estimators': 70, 'max_features': 'log2', 'max_depth': 8, 'min_samples_split': 6, 'min_samples_leaf': 3, 'bootstrap': True}. Best is trial 27 with value: 1.5904833782938226.\n",
      "[I 2024-05-30 01:18:02,639] Trial 42 finished with value: 1.637923770625487 and parameters: {'n_estimators': 440, 'max_features': 'log2', 'max_depth': 46, 'min_samples_split': 7, 'min_samples_leaf': 1, 'bootstrap': False}. Best is trial 27 with value: 1.5904833782938226.\n",
      "[I 2024-05-30 01:18:03,004] Trial 45 finished with value: 1.5930302218502261 and parameters: {'n_estimators': 380, 'max_features': 'sqrt', 'max_depth': 23, 'min_samples_split': 7, 'min_samples_leaf': 2, 'bootstrap': False}. Best is trial 27 with value: 1.5904833782938226.\n",
      "[I 2024-05-30 01:18:03,013] Trial 30 finished with value: 1.5902756955606647 and parameters: {'n_estimators': 450, 'max_features': 'sqrt', 'max_depth': 31, 'min_samples_split': 5, 'min_samples_leaf': 1, 'bootstrap': False}. Best is trial 30 with value: 1.5902756955606647.\n",
      "[I 2024-05-30 01:18:03,629] Trial 58 finished with value: 1.6857737346530268 and parameters: {'n_estimators': 200, 'max_features': 'log2', 'max_depth': 28, 'min_samples_split': 6, 'min_samples_leaf': 1, 'bootstrap': True}. Best is trial 30 with value: 1.5902756955606647.\n",
      "[I 2024-05-30 01:18:03,734] Trial 54 finished with value: 1.6102675390139816 and parameters: {'n_estimators': 190, 'max_features': 'sqrt', 'max_depth': 42, 'min_samples_split': 6, 'min_samples_leaf': 4, 'bootstrap': False}. Best is trial 30 with value: 1.5902756955606647.\n",
      "[I 2024-05-30 01:18:04,376] Trial 48 finished with value: 1.6284312153971143 and parameters: {'n_estimators': 490, 'max_features': 'sqrt', 'max_depth': 13, 'min_samples_split': 6, 'min_samples_leaf': 5, 'bootstrap': False}. Best is trial 30 with value: 1.5902756955606647.\n",
      "[I 2024-05-30 01:18:04,630] Trial 53 finished with value: 1.90451837253906 and parameters: {'n_estimators': 500, 'max_features': 'sqrt', 'max_depth': 6, 'min_samples_split': 2, 'min_samples_leaf': 2, 'bootstrap': True}. Best is trial 30 with value: 1.5902756955606647.\n",
      "[I 2024-05-30 01:18:05,440] Trial 61 finished with value: 1.6600988113908688 and parameters: {'n_estimators': 150, 'max_features': 'log2', 'max_depth': 21, 'min_samples_split': 9, 'min_samples_leaf': 3, 'bootstrap': False}. Best is trial 30 with value: 1.5902756955606647.\n",
      "[I 2024-05-30 01:18:05,696] Trial 72 finished with value: 1.7137998802894994 and parameters: {'n_estimators': 100, 'max_features': 'log2', 'max_depth': 39, 'min_samples_split': 3, 'min_samples_leaf': 4, 'bootstrap': True}. Best is trial 30 with value: 1.5902756955606647.\n",
      "[I 2024-05-30 01:18:06,549] Trial 65 finished with value: 1.6806256391808074 and parameters: {'n_estimators': 150, 'max_features': 'log2', 'max_depth': 36, 'min_samples_split': 5, 'min_samples_leaf': 2, 'bootstrap': True}. Best is trial 30 with value: 1.5902756955606647.\n",
      "[I 2024-05-30 01:18:06,766] Trial 67 finished with value: 1.7206715068773875 and parameters: {'n_estimators': 220, 'max_features': 'log2', 'max_depth': 47, 'min_samples_split': 3, 'min_samples_leaf': 5, 'bootstrap': True}. Best is trial 30 with value: 1.5902756955606647.\n",
      "[I 2024-05-30 01:18:06,852] Trial 63 finished with value: 1.5985577908091322 and parameters: {'n_estimators': 80, 'max_features': 'sqrt', 'max_depth': 19, 'min_samples_split': 3, 'min_samples_leaf': 2, 'bootstrap': False}. Best is trial 30 with value: 1.5902756955606647.\n",
      "[I 2024-05-30 01:18:06,999] Trial 73 finished with value: 1.6860870405949082 and parameters: {'n_estimators': 80, 'max_features': 'log2', 'max_depth': 33, 'min_samples_split': 2, 'min_samples_leaf': 4, 'bootstrap': False}. Best is trial 30 with value: 1.5902756955606647.\n",
      "[I 2024-05-30 01:18:07,304] Trial 82 finished with value: 2.176062221830412 and parameters: {'n_estimators': 190, 'max_features': 'log2', 'max_depth': 5, 'min_samples_split': 7, 'min_samples_leaf': 3, 'bootstrap': True}. Best is trial 30 with value: 1.5902756955606647.\n",
      "[I 2024-05-30 01:18:07,381] Trial 81 finished with value: 1.6924302898984311 and parameters: {'n_estimators': 90, 'max_features': 'sqrt', 'max_depth': 10, 'min_samples_split': 6, 'min_samples_leaf': 5, 'bootstrap': False}. Best is trial 30 with value: 1.5902756955606647.\n",
      "[I 2024-05-30 01:18:07,699] Trial 83 finished with value: 1.6643889280549604 and parameters: {'n_estimators': 80, 'max_features': 'sqrt', 'max_depth': 12, 'min_samples_split': 7, 'min_samples_leaf': 4, 'bootstrap': True}. Best is trial 30 with value: 1.5902756955606647.\n",
      "[I 2024-05-30 01:18:07,894] Trial 64 finished with value: 1.6066413510291493 and parameters: {'n_estimators': 130, 'max_features': 'sqrt', 'max_depth': 14, 'min_samples_split': 4, 'min_samples_leaf': 2, 'bootstrap': False}. Best is trial 30 with value: 1.5902756955606647.\n",
      "[I 2024-05-30 01:18:08,743] Trial 79 finished with value: 1.6796465070744513 and parameters: {'n_estimators': 210, 'max_features': 'log2', 'max_depth': 19, 'min_samples_split': 5, 'min_samples_leaf': 5, 'bootstrap': False}. Best is trial 30 with value: 1.5902756955606647.\n",
      "[I 2024-05-30 01:18:08,771] Trial 55 finished with value: 1.6669668992069908 and parameters: {'n_estimators': 350, 'max_features': 'log2', 'max_depth': 14, 'min_samples_split': 4, 'min_samples_leaf': 2, 'bootstrap': False}. Best is trial 30 with value: 1.5902756955606647.\n",
      "[I 2024-05-30 01:18:09,198] Trial 74 finished with value: 1.7002978216849187 and parameters: {'n_estimators': 390, 'max_features': 'log2', 'max_depth': 17, 'min_samples_split': 10, 'min_samples_leaf': 3, 'bootstrap': True}. Best is trial 30 with value: 1.5902756955606647.\n",
      "[I 2024-05-30 01:18:09,726] Trial 77 finished with value: 1.7333240710219946 and parameters: {'n_estimators': 320, 'max_features': 'log2', 'max_depth': 11, 'min_samples_split': 2, 'min_samples_leaf': 2, 'bootstrap': False}. Best is trial 30 with value: 1.5902756955606647.\n",
      "[I 2024-05-30 01:18:10,146] Trial 69 finished with value: 1.7446974615378281 and parameters: {'n_estimators': 480, 'max_features': 'log2', 'max_depth': 11, 'min_samples_split': 7, 'min_samples_leaf': 2, 'bootstrap': True}. Best is trial 30 with value: 1.5902756955606647.\n",
      "[I 2024-05-30 01:18:10,192] Trial 89 finished with value: 1.6305549104601131 and parameters: {'n_estimators': 60, 'max_features': 'sqrt', 'max_depth': 25, 'min_samples_split': 8, 'min_samples_leaf': 4, 'bootstrap': False}. Best is trial 30 with value: 1.5902756955606647.\n",
      "[I 2024-05-30 01:18:10,659] Trial 62 finished with value: 1.6765494305583961 and parameters: {'n_estimators': 280, 'max_features': 'log2', 'max_depth': 41, 'min_samples_split': 2, 'min_samples_leaf': 1, 'bootstrap': True}. Best is trial 30 with value: 1.5902756955606647.\n",
      "[I 2024-05-30 01:18:10,694] Trial 60 finished with value: 1.645157059818207 and parameters: {'n_estimators': 220, 'max_features': 'log2', 'max_depth': 37, 'min_samples_split': 3, 'min_samples_leaf': 1, 'bootstrap': False}. Best is trial 30 with value: 1.5902756955606647.\n",
      "[I 2024-05-30 01:18:10,768] Trial 84 finished with value: 1.6567141838474382 and parameters: {'n_estimators': 180, 'max_features': 'sqrt', 'max_depth': 42, 'min_samples_split': 10, 'min_samples_leaf': 5, 'bootstrap': True}. Best is trial 30 with value: 1.5902756955606647.\n",
      "[I 2024-05-30 01:18:11,054] Trial 80 finished with value: 1.7374783641036202 and parameters: {'n_estimators': 320, 'max_features': 'log2', 'max_depth': 13, 'min_samples_split': 10, 'min_samples_leaf': 5, 'bootstrap': True}. Best is trial 30 with value: 1.5902756955606647.\n",
      "[I 2024-05-30 01:18:11,486] Trial 93 finished with value: 1.6186441489379082 and parameters: {'n_estimators': 50, 'max_features': 'sqrt', 'max_depth': 26, 'min_samples_split': 7, 'min_samples_leaf': 1, 'bootstrap': False}. Best is trial 30 with value: 1.5902756955606647.\n",
      "[I 2024-05-30 01:18:11,489] Trial 91 finished with value: 1.6185172537753982 and parameters: {'n_estimators': 70, 'max_features': 'sqrt', 'max_depth': 22, 'min_samples_split': 7, 'min_samples_leaf': 1, 'bootstrap': False}. Best is trial 30 with value: 1.5902756955606647.\n",
      "[I 2024-05-30 01:18:11,534] Trial 71 finished with value: 1.6457405933561613 and parameters: {'n_estimators': 380, 'max_features': 'log2', 'max_depth': 25, 'min_samples_split': 7, 'min_samples_leaf': 2, 'bootstrap': False}. Best is trial 30 with value: 1.5902756955606647.\n",
      "[I 2024-05-30 01:18:12,080] Trial 94 finished with value: 1.6307540530076483 and parameters: {'n_estimators': 50, 'max_features': 'sqrt', 'max_depth': 26, 'min_samples_split': 7, 'min_samples_leaf': 2, 'bootstrap': False}. Best is trial 30 with value: 1.5902756955606647.\n",
      "[I 2024-05-30 01:18:12,308] Trial 66 finished with value: 1.674327737842838 and parameters: {'n_estimators': 420, 'max_features': 'log2', 'max_depth': 30, 'min_samples_split': 5, 'min_samples_leaf': 2, 'bootstrap': True}. Best is trial 30 with value: 1.5902756955606647.\n",
      "[I 2024-05-30 01:18:12,439] Trial 75 finished with value: 1.6505908502460187 and parameters: {'n_estimators': 370, 'max_features': 'sqrt', 'max_depth': 44, 'min_samples_split': 7, 'min_samples_leaf': 5, 'bootstrap': True}. Best is trial 30 with value: 1.5902756955606647.\n",
      "[I 2024-05-30 01:18:12,869] Trial 85 finished with value: 1.675768983998354 and parameters: {'n_estimators': 260, 'max_features': 'log2', 'max_depth': 16, 'min_samples_split': 8, 'min_samples_leaf': 5, 'bootstrap': False}. Best is trial 30 with value: 1.5902756955606647.\n",
      "[I 2024-05-30 01:18:13,008] Trial 76 finished with value: 1.6693396334534327 and parameters: {'n_estimators': 440, 'max_features': 'log2', 'max_depth': 37, 'min_samples_split': 3, 'min_samples_leaf': 5, 'bootstrap': False}. Best is trial 30 with value: 1.5902756955606647.\n",
      "[I 2024-05-30 01:18:13,075] Trial 78 finished with value: 1.6332217029039247 and parameters: {'n_estimators': 410, 'max_features': 'sqrt', 'max_depth': 22, 'min_samples_split': 3, 'min_samples_leaf': 3, 'bootstrap': True}. Best is trial 30 with value: 1.5902756955606647.\n",
      "[I 2024-05-30 01:18:13,634] Trial 68 finished with value: 1.6217620331833889 and parameters: {'n_estimators': 420, 'max_features': 'sqrt', 'max_depth': 21, 'min_samples_split': 4, 'min_samples_leaf': 2, 'bootstrap': True}. Best is trial 30 with value: 1.5902756955606647.\n",
      "[I 2024-05-30 01:18:14,086] Trial 86 finished with value: 1.6020223726929643 and parameters: {'n_estimators': 210, 'max_features': 'sqrt', 'max_depth': 41, 'min_samples_split': 7, 'min_samples_leaf': 2, 'bootstrap': False}. Best is trial 30 with value: 1.5902756955606647.\n",
      "[I 2024-05-30 01:18:15,386] Trial 87 finished with value: 1.6844450424364172 and parameters: {'n_estimators': 450, 'max_features': 'log2', 'max_depth': 50, 'min_samples_split': 8, 'min_samples_leaf': 2, 'bootstrap': True}. Best is trial 30 with value: 1.5902756955606647.\n",
      "[I 2024-05-30 01:18:17,512] Trial 70 finished with value: 1.5989891585637266 and parameters: {'n_estimators': 470, 'max_features': 'sqrt', 'max_depth': 33, 'min_samples_split': 7, 'min_samples_leaf': 3, 'bootstrap': False}. Best is trial 30 with value: 1.5902756955606647.\n",
      "[I 2024-05-30 01:18:18,839] Trial 90 finished with value: 1.6093682825235376 and parameters: {'n_estimators': 370, 'max_features': 'sqrt', 'max_depth': 27, 'min_samples_split': 9, 'min_samples_leaf': 4, 'bootstrap': False}. Best is trial 30 with value: 1.5902756955606647.\n",
      "[I 2024-05-30 01:18:19,860] Trial 99 finished with value: 1.5990348560627403 and parameters: {'n_estimators': 320, 'max_features': 'sqrt', 'max_depth': 24, 'min_samples_split': 8, 'min_samples_leaf': 1, 'bootstrap': False}. Best is trial 30 with value: 1.5902756955606647.\n",
      "[I 2024-05-30 01:18:20,041] Trial 95 finished with value: 1.594203890511858 and parameters: {'n_estimators': 340, 'max_features': 'sqrt', 'max_depth': 27, 'min_samples_split': 8, 'min_samples_leaf': 2, 'bootstrap': False}. Best is trial 30 with value: 1.5902756955606647.\n",
      "[I 2024-05-30 01:18:20,418] Trial 92 finished with value: 1.595835497816342 and parameters: {'n_estimators': 350, 'max_features': 'sqrt', 'max_depth': 26, 'min_samples_split': 7, 'min_samples_leaf': 1, 'bootstrap': False}. Best is trial 30 with value: 1.5902756955606647.\n",
      "[I 2024-05-30 01:18:20,452] Trial 88 finished with value: 1.589723215732447 and parameters: {'n_estimators': 470, 'max_features': 'sqrt', 'max_depth': 40, 'min_samples_split': 4, 'min_samples_leaf': 2, 'bootstrap': False}. Best is trial 88 with value: 1.589723215732447.\n",
      "[I 2024-05-30 01:18:20,601] Trial 96 finished with value: 1.5897403155579357 and parameters: {'n_estimators': 340, 'max_features': 'sqrt', 'max_depth': 27, 'min_samples_split': 8, 'min_samples_leaf': 1, 'bootstrap': False}. Best is trial 88 with value: 1.589723215732447.\n",
      "[I 2024-05-30 01:18:20,684] Trial 97 finished with value: 1.5931647165852432 and parameters: {'n_estimators': 330, 'max_features': 'sqrt', 'max_depth': 26, 'min_samples_split': 8, 'min_samples_leaf': 1, 'bootstrap': False}. Best is trial 88 with value: 1.589723215732447.\n",
      "[I 2024-05-30 01:18:20,790] Trial 98 finished with value: 1.5982349633626862 and parameters: {'n_estimators': 330, 'max_features': 'sqrt', 'max_depth': 24, 'min_samples_split': 8, 'min_samples_leaf': 1, 'bootstrap': False}. Best is trial 88 with value: 1.589723215732447.\n"
     ]
    }
   ],
   "source": [
    "# optuna bayesian\n",
    "def objective(trial):\n",
    "    params = {\n",
    "        'n_estimators': trial.suggest_int('n_estimators', 50, 500, step=10),\n",
    "        'max_features': trial.suggest_categorical('max_features', ['sqrt', 'log2']),\n",
    "        'max_depth': trial.suggest_int('max_depth', 5, 50),\n",
    "        'min_samples_split': trial.suggest_int('min_samples_split', 2, 10),\n",
    "        'min_samples_leaf': trial.suggest_int('min_samples_leaf', 1, 5),\n",
    "        'bootstrap': trial.suggest_categorical('bootstrap', [True, False]),\n",
    "        'random_state': 42\n",
    "    }\n",
    "    model =  RandomForestRegressor(**params)\n",
    "    # Perform cross-validation with AUC as the scoring metric\n",
    "    scores = -np.mean(cross_val_score(model, X_train, y_train, cv=5, scoring='neg_mean_squared_error',n_jobs=-1))\n",
    "    return scores\n",
    "\n",
    "study = optuna.create_study(direction='minimize')\n",
    "study.optimize(objective, n_trials=100, n_jobs=-1)\n"
   ]
  },
  {
   "cell_type": "code",
   "execution_count": 8,
   "metadata": {},
   "outputs": [
    {
     "name": "stdout",
     "output_type": "stream",
     "text": [
      "Best trial:\n",
      "  Value:  1.589723215732447\n",
      "  Params: \n",
      "    n_estimators: 470\n",
      "    max_features: sqrt\n",
      "    max_depth: 40\n",
      "    min_samples_split: 4\n",
      "    min_samples_leaf: 2\n",
      "    bootstrap: False\n"
     ]
    }
   ],
   "source": [
    "print(\"Best trial:\")\n",
    "trial = study.best_trial\n",
    "print(\"  Value: \", trial.value)\n",
    "print(\"  Params: \")\n",
    "for key, value in trial.params.items():\n",
    "    print(f\"    {key}: {value}\")"
   ]
  },
  {
   "cell_type": "code",
   "execution_count": 9,
   "metadata": {},
   "outputs": [
    {
     "data": {
      "text/plain": [
       "{'n_estimators': 470,\n",
       " 'max_features': 'sqrt',\n",
       " 'max_depth': 40,\n",
       " 'min_samples_split': 4,\n",
       " 'min_samples_leaf': 2,\n",
       " 'bootstrap': False}"
      ]
     },
     "execution_count": 9,
     "metadata": {},
     "output_type": "execute_result"
    }
   ],
   "source": [
    "trial.params"
   ]
  },
  {
   "cell_type": "code",
   "execution_count": 10,
   "metadata": {},
   "outputs": [
    {
     "name": "stdout",
     "output_type": "stream",
     "text": [
      "Test set evaluation:\n",
      "_____________________________________\n",
      "MAE: 0.8775331356130738\n",
      "MSE: 1.5098626156829227\n",
      "RMSE: 1.2287646705870585\n",
      "R2 Square 0.5912313619906044\n",
      "Train set evaluation:\n",
      "_____________________________________\n",
      "MAE: 0.15227663714448414\n",
      "MSE: 0.061416748053897526\n",
      "RMSE: 0.24782402638545264\n",
      "R2 Square 0.9836763187570223\n"
     ]
    }
   ],
   "source": [
    "# 基于超参数 ， train model\n",
    "model = RandomForestRegressor(\n",
    "**trial.params\n",
    ")\n",
    "\n",
    "# 在训练数据上拟合模型\n",
    "model.fit(X_train, y_train)\n",
    "\n",
    "# 使用测试数据进行预测\n",
    "test_pred = model.predict(X_test)\n",
    "train_pred = model.predict(X_train)\n",
    "\n",
    "print('Test set evaluation:\\n_____________________________________')\n",
    "print_evaluate(y_test, test_pred)\n",
    "\n",
    "print('Train set evaluation:\\n_____________________________________')\n",
    "print_evaluate(y_train, train_pred)"
   ]
  },
  {
   "cell_type": "code",
   "execution_count": 12,
   "metadata": {},
   "outputs": [
    {
     "data": {
      "image/png": "[encoded data removed]",
      "text/plain": [
       "<Figure size 1000x600 with 1 Axes>"
      ]
     },
     "metadata": {},
     "output_type": "display_data"
    }
   ],
   "source": [
    "import pandas as pd\n",
    "\n",
    "# 获取特征重要性\n",
    "importance = model.feature_importances_\n",
    "feature_names = X_train.columns\n",
    "\n",
    "# 创建DataFrame并排序\n",
    "importance_df = pd.DataFrame({'Feature': feature_names, 'Importance': importance})\n",
    "importance_df = importance_df.sort_values(by='Importance', ascending=False).iloc[:20,:]\n",
    "import matplotlib.pyplot as plt\n",
    "\n",
    "plt.figure(figsize=(10, 6))\n",
    "plt.bar(importance_df['Feature'], importance_df['Importance'])\n",
    "plt.xlabel('Features')\n",
    "plt.ylabel('Importance')\n",
    "plt.title('Feature Importance Sorted - RF')\n",
    "plt.xticks(rotation='vertical')\n",
    "plt.show()\n"
   ]
  },
  {
   "cell_type": "code",
   "execution_count": 13,
   "metadata": {},
   "outputs": [
    {
     "name": "stdout",
     "output_type": "stream",
     "text": [
      "Fitting 5 folds for each of 200 candidates, totalling 1000 fits\n",
      "Best parameters: {'n_estimators': 500, 'min_samples_split': 2, 'min_samples_leaf': 1, 'max_features': 'sqrt', 'max_depth': 30, 'bootstrap': False}\n",
      "Best score (MSE): 1.5880329365556904\n"
     ]
    }
   ],
   "source": [
    "# 使用randomgrid search\n",
    "# 超参数搜索空间\n",
    "param_distributions = {\n",
    "    'n_estimators': [100, 200, 300, 500],  # 树的数量\n",
    "    'max_features': ['sqrt', 'log2'],  # 寻找最佳分割时要考虑的特征数量\n",
    "    'max_depth': [5, 10, 20, 30, 40, 50],  # 树的最大深度\n",
    "    'min_samples_split': [2, 5, 10],  # 内部节点再划分所需最小样本数\n",
    "    'min_samples_leaf': [1, 2, 4],  # 在叶节点上所需的最小样本数\n",
    "    'bootstrap': [True, False]  # 是否在建立树时使用放回抽样\n",
    "}\n",
    "\n",
    "# 创建随机森林回归器实例\n",
    "rf = RandomForestRegressor()\n",
    "\n",
    "# 设置 RandomizedSearchCV\n",
    "search = RandomizedSearchCV(\n",
    "    estimator=rf,\n",
    "    param_distributions=param_distributions,\n",
    "    n_iter=200,  # 进行100次抽样迭代\n",
    "    cv=5,  # 5折交叉验证\n",
    "    verbose=1,  # 显示详细信息\n",
    "    random_state=42,  # 为了可重复性\n",
    "    scoring='neg_mean_squared_error',  # 使用负均方误差作为评分标准\n",
    "    n_jobs=-1  # 使用所有可用的CPU核心\n",
    ")\n",
    "\n",
    "# 训练模型\n",
    "search.fit(X_train, y_train)\n",
    "\n",
    "# 输出最佳参数和对应的性能\n",
    "print(\"Best parameters:\", search.best_params_)\n",
    "print(\"Best score (MSE):\", -search.best_score_)  # 转换成正的MSE，因为评分标准是负的MSE\n",
    "\n"
   ]
  },
  {
   "cell_type": "code",
   "execution_count": 14,
   "metadata": {},
   "outputs": [
    {
     "name": "stdout",
     "output_type": "stream",
     "text": [
      "Test set evaluation:\n",
      "_____________________________________\n",
      "MAE: 0.8801740156587236\n",
      "MSE: 1.5172474510962533\n",
      "RMSE: 1.231765988772321\n",
      "R2 Square 0.5892320482235931\n",
      "Train set evaluation:\n",
      "_____________________________________\n",
      "MAE: 0.0008919877085744531\n",
      "MSE: 6.7000655536729926e-06\n",
      "RMSE: 0.0025884484838746536\n",
      "R2 Square 0.9999982192197101\n"
     ]
    }
   ],
   "source": [
    "# 基于超参数 ， train model\n",
    "model = RandomForestRegressor(\n",
    "**search.best_params_\n",
    ")\n",
    "\n",
    "# 在训练数据上拟合模型\n",
    "model.fit(X_train, y_train)\n",
    "\n",
    "# 使用测试数据进行预测\n",
    "test_pred = model.predict(X_test)\n",
    "train_pred = model.predict(X_train)\n",
    "\n",
    "print('Test set evaluation:\\n_____________________________________')\n",
    "print_evaluate(y_test, test_pred)\n",
    "\n",
    "print('Train set evaluation:\\n_____________________________________')\n",
    "print_evaluate(y_train, train_pred)"
   ]
  },
  {
   "cell_type": "code",
   "execution_count": null,
   "metadata": {},
   "outputs": [],
   "source": []
  }
 ],
 "metadata": {
  "kernelspec": {
   "display_name": "envPytorch",
   "language": "python",
   "name": "python3"
  },
  "language_info": {
   "codemirror_mode": {
    "name": "ipython",
    "version": 3
   },
   "file_extension": ".py",
   "mimetype": "text/x-python",
   "name": "python",
   "nbconvert_exporter": "python",
   "pygments_lexer": "ipython3",
   "version": "3.8.18"
  }
 },
 "nbformat": 4,
 "nbformat_minor": 2
}
